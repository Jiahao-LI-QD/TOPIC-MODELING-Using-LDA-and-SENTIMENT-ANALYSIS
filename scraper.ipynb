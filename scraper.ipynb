{
  "nbformat": 4,
  "nbformat_minor": 0,
  "metadata": {
    "colab": {
      "provenance": []
    },
    "kernelspec": {
      "name": "python3",
      "display_name": "Python 3"
    },
    "language_info": {
      "name": "python"
    }
  },
  "cells": [
    {
      "cell_type": "code",
      "source": [
        "# this script scrap the reviews from app\n",
        "import sys\n",
        "import re\n",
        "import string\n",
        "import csv\n",
        "from google.colab import drive\n",
        "import pandas\n",
        "import nltk\n",
        "import numpy\n",
        "from google.colab import files\n",
        "from nltk.corpus import stopwords\n",
        "from nltk.stem.porter import PorterStemmer\n",
        "from nltk.stem import WordNetLemmatizer\n",
        "from nltk.util import ngrams\n",
        "!pip install google-play-scraper\n",
        "from google_play_scraper import app\n",
        "from google_play_scraper import Sort, reviews_all,reviews"
      ],
      "metadata": {
        "colab": {
          "base_uri": "https://localhost:8080/"
        },
        "id": "BG38fdBI_YaW",
        "outputId": "7d6313e1-67af-4f51-9f82-e019cbbbf5ae"
      },
      "execution_count": null,
      "outputs": [
        {
          "output_type": "stream",
          "name": "stdout",
          "text": [
            "Collecting google-play-scraper\n",
            "  Downloading google-play-scraper-1.0.3.tar.gz (52 kB)\n",
            "\u001b[?25l\r\u001b[K     |██████▏                         | 10 kB 24.4 MB/s eta 0:00:01\r\u001b[K     |████████████▍                   | 20 kB 28.0 MB/s eta 0:00:01\r\u001b[K     |██████████████████▋             | 30 kB 29.3 MB/s eta 0:00:01\r\u001b[K     |████████████████████████▉       | 40 kB 15.3 MB/s eta 0:00:01\r\u001b[K     |███████████████████████████████ | 51 kB 14.3 MB/s eta 0:00:01\r\u001b[K     |████████████████████████████████| 52 kB 1.7 MB/s \n",
            "\u001b[?25hBuilding wheels for collected packages: google-play-scraper\n",
            "  Building wheel for google-play-scraper (setup.py) ... \u001b[?25l\u001b[?25hdone\n",
            "  Created wheel for google-play-scraper: filename=google_play_scraper-1.0.3-py3-none-any.whl size=24394 sha256=9f4deb8d7eddca404c2a894e3f87e38d8edab17e18ab3f2afa0c8bba452449c4\n",
            "  Stored in directory: /root/.cache/pip/wheels/81/37/0b/4a14be55b449a048cd93d79930b1a980dee7896480defa1923\n",
            "Successfully built google-play-scraper\n",
            "Installing collected packages: google-play-scraper\n",
            "Successfully installed google-play-scraper-1.0.3\n"
          ]
        }
      ]
    },
    {
      "cell_type": "code",
      "source": [
        "import shutil\n",
        "# remove the existing folder if it is needed to retry\n",
        "shutil. rmtree(\"EECS4312\")"
      ],
      "metadata": {
        "id": "SjdUVXyiERA8",
        "colab": {
          "base_uri": "https://localhost:8080/",
          "height": 371
        },
        "outputId": "ce63f01c-37a3-4b33-a19d-664d21649df5"
      },
      "execution_count": null,
      "outputs": [
        {
          "output_type": "error",
          "ename": "FileNotFoundError",
          "evalue": "ignored",
          "traceback": [
            "\u001b[0;31m---------------------------------------------------------------------------\u001b[0m",
            "\u001b[0;31mFileNotFoundError\u001b[0m                         Traceback (most recent call last)",
            "\u001b[0;32m<ipython-input-2-f359b8b32dd4>\u001b[0m in \u001b[0;36m<module>\u001b[0;34m()\u001b[0m\n\u001b[1;32m      1\u001b[0m \u001b[0;32mimport\u001b[0m \u001b[0mshutil\u001b[0m\u001b[0;34m\u001b[0m\u001b[0;34m\u001b[0m\u001b[0m\n\u001b[0;32m----> 2\u001b[0;31m \u001b[0mshutil\u001b[0m\u001b[0;34m.\u001b[0m \u001b[0mrmtree\u001b[0m\u001b[0;34m(\u001b[0m\u001b[0;34m\"EECS4312\"\u001b[0m\u001b[0;34m)\u001b[0m\u001b[0;34m\u001b[0m\u001b[0;34m\u001b[0m\u001b[0m\n\u001b[0m",
            "\u001b[0;32m/usr/lib/python3.7/shutil.py\u001b[0m in \u001b[0;36mrmtree\u001b[0;34m(path, ignore_errors, onerror)\u001b[0m\n\u001b[1;32m    483\u001b[0m             \u001b[0morig_st\u001b[0m \u001b[0;34m=\u001b[0m \u001b[0mos\u001b[0m\u001b[0;34m.\u001b[0m\u001b[0mlstat\u001b[0m\u001b[0;34m(\u001b[0m\u001b[0mpath\u001b[0m\u001b[0;34m)\u001b[0m\u001b[0;34m\u001b[0m\u001b[0;34m\u001b[0m\u001b[0m\n\u001b[1;32m    484\u001b[0m         \u001b[0;32mexcept\u001b[0m \u001b[0mException\u001b[0m\u001b[0;34m:\u001b[0m\u001b[0;34m\u001b[0m\u001b[0;34m\u001b[0m\u001b[0m\n\u001b[0;32m--> 485\u001b[0;31m             \u001b[0monerror\u001b[0m\u001b[0;34m(\u001b[0m\u001b[0mos\u001b[0m\u001b[0;34m.\u001b[0m\u001b[0mlstat\u001b[0m\u001b[0;34m,\u001b[0m \u001b[0mpath\u001b[0m\u001b[0;34m,\u001b[0m \u001b[0msys\u001b[0m\u001b[0;34m.\u001b[0m\u001b[0mexc_info\u001b[0m\u001b[0;34m(\u001b[0m\u001b[0;34m)\u001b[0m\u001b[0;34m)\u001b[0m\u001b[0;34m\u001b[0m\u001b[0;34m\u001b[0m\u001b[0m\n\u001b[0m\u001b[1;32m    486\u001b[0m             \u001b[0;32mreturn\u001b[0m\u001b[0;34m\u001b[0m\u001b[0;34m\u001b[0m\u001b[0m\n\u001b[1;32m    487\u001b[0m         \u001b[0;32mtry\u001b[0m\u001b[0;34m:\u001b[0m\u001b[0;34m\u001b[0m\u001b[0;34m\u001b[0m\u001b[0m\n",
            "\u001b[0;32m/usr/lib/python3.7/shutil.py\u001b[0m in \u001b[0;36mrmtree\u001b[0;34m(path, ignore_errors, onerror)\u001b[0m\n\u001b[1;32m    481\u001b[0m         \u001b[0;31m# lstat()/open()/fstat() trick.\u001b[0m\u001b[0;34m\u001b[0m\u001b[0;34m\u001b[0m\u001b[0;34m\u001b[0m\u001b[0m\n\u001b[1;32m    482\u001b[0m         \u001b[0;32mtry\u001b[0m\u001b[0;34m:\u001b[0m\u001b[0;34m\u001b[0m\u001b[0;34m\u001b[0m\u001b[0m\n\u001b[0;32m--> 483\u001b[0;31m             \u001b[0morig_st\u001b[0m \u001b[0;34m=\u001b[0m \u001b[0mos\u001b[0m\u001b[0;34m.\u001b[0m\u001b[0mlstat\u001b[0m\u001b[0;34m(\u001b[0m\u001b[0mpath\u001b[0m\u001b[0;34m)\u001b[0m\u001b[0;34m\u001b[0m\u001b[0;34m\u001b[0m\u001b[0m\n\u001b[0m\u001b[1;32m    484\u001b[0m         \u001b[0;32mexcept\u001b[0m \u001b[0mException\u001b[0m\u001b[0;34m:\u001b[0m\u001b[0;34m\u001b[0m\u001b[0;34m\u001b[0m\u001b[0m\n\u001b[1;32m    485\u001b[0m             \u001b[0monerror\u001b[0m\u001b[0;34m(\u001b[0m\u001b[0mos\u001b[0m\u001b[0;34m.\u001b[0m\u001b[0mlstat\u001b[0m\u001b[0;34m,\u001b[0m \u001b[0mpath\u001b[0m\u001b[0;34m,\u001b[0m \u001b[0msys\u001b[0m\u001b[0;34m.\u001b[0m\u001b[0mexc_info\u001b[0m\u001b[0;34m(\u001b[0m\u001b[0;34m)\u001b[0m\u001b[0;34m)\u001b[0m\u001b[0;34m\u001b[0m\u001b[0;34m\u001b[0m\u001b[0m\n",
            "\u001b[0;31mFileNotFoundError\u001b[0m: [Errno 2] No such file or directory: 'EECS4312'"
          ]
        }
      ]
    },
    {
      "cell_type": "code",
      "source": [
        "!git clone https://github.com/li-jiahao-216263949/EECS4312.git"
      ],
      "metadata": {
        "colab": {
          "base_uri": "https://localhost:8080/"
        },
        "id": "QtgzeeCS_gJd",
        "outputId": "a976fded-9dfa-4acc-cd04-9891174408a4"
      },
      "execution_count": null,
      "outputs": [
        {
          "output_type": "stream",
          "name": "stdout",
          "text": [
            "Cloning into 'EECS4312'...\n",
            "remote: Enumerating objects: 25, done.\u001b[K\n",
            "remote: Counting objects: 100% (25/25), done.\u001b[K\n",
            "remote: Compressing objects: 100% (24/24), done.\u001b[K\n",
            "remote: Total 25 (delta 7), reused 0 (delta 0), pack-reused 0\u001b[K\n",
            "Unpacking objects: 100% (25/25), done.\n"
          ]
        }
      ]
    },
    {
      "cell_type": "code",
      "source": [
        "lists = pandas.read_csv('EECS4312/MyAppLists.csv')\n",
        "lists['package name'].iloc[0]"
      ],
      "metadata": {
        "colab": {
          "base_uri": "https://localhost:8080/",
          "height": 35
        },
        "id": "j6qIlzUb_hcD",
        "outputId": "568086e2-222d-4aaa-a69f-dd3b9b057e4f"
      },
      "execution_count": null,
      "outputs": [
        {
          "output_type": "execute_result",
          "data": {
            "text/plain": [
              "'com.google.android.diskusage'"
            ],
            "application/vnd.google.colaboratory.intrinsic+json": {
              "type": "string"
            }
          },
          "metadata": {},
          "execution_count": 4
        }
      ]
    },
    {
      "cell_type": "code",
      "source": [
        "#create csv for first app and its competitor and similar product\n",
        "def get_review(url):\n",
        "  r = reviews(\n",
        "    url,\n",
        "    count=1000,\n",
        "    lang='en', # defaults to 'en'\n",
        "    country='us', # defaults to 'us'\n",
        "  )\n",
        "  return r\n",
        "\n",
        "def get_csv(ori, apps):\n",
        "  f = open(ori+'.csv', 'w')\n",
        "  writer = csv.writer(f)\n",
        "  writer.writerow(['Package Name','Reviewer name', 'Review', 'Rating'])\n",
        "  for i in range(5):\n",
        "    print(apps['package name'].iloc[i])\n",
        "    for r in get_review(apps['package name'].iloc[i])[0]:\n",
        "      writer.writerow([apps['package name'].iloc[i],r['userName'], r['content'], r['score']])\n",
        "  f.close()\n"
      ],
      "metadata": {
        "id": "7w9wfuhOBMlN"
      },
      "execution_count": null,
      "outputs": []
    },
    {
      "cell_type": "code",
      "source": [
        "get_csv(lists['package name'].iloc[0], lists.iloc[0:5])"
      ],
      "metadata": {
        "id": "8RVj9zoaCCDm",
        "colab": {
          "base_uri": "https://localhost:8080/"
        },
        "outputId": "199464ae-6f75-4dff-85cd-35fd0fbd17c1"
      },
      "execution_count": null,
      "outputs": [
        {
          "output_type": "stream",
          "name": "stdout",
          "text": [
            "com.google.android.diskusage\n",
            "com.google.android.apps.nbu.files\n",
            "com.mobile_infographics_tools.mydrive\n",
            "com.avast.android.cleaner\n",
            "com.mobisystems.fileman\n"
          ]
        }
      ]
    },
    {
      "cell_type": "code",
      "source": [
        "get_csv(lists['package name'].iloc[5], lists.iloc[5:10])"
      ],
      "metadata": {
        "id": "HGtSf4BeC7Fi",
        "colab": {
          "base_uri": "https://localhost:8080/"
        },
        "outputId": "defaadd0-729b-41d5-94a0-1abe85b25cbd"
      },
      "execution_count": null,
      "outputs": [
        {
          "output_type": "stream",
          "name": "stdout",
          "text": [
            "ee.smkv.calc.loan\n",
            "com.financial.loan.emi.calculator\n",
            "com.rkayapps.compoundinterestcalculator\n",
            "com.financial.calculator\n",
            "advanced.scientific.calculator.calc991.plus\n"
          ]
        }
      ]
    },
    {
      "cell_type": "code",
      "source": [
        "get_csv(lists['package name'].iloc[10], lists.iloc[10:15])"
      ],
      "metadata": {
        "id": "q9s8exzvC9Kn",
        "colab": {
          "base_uri": "https://localhost:8080/"
        },
        "outputId": "e00aee71-530b-4e08-cb85-6a65a124db2f"
      },
      "execution_count": null,
      "outputs": [
        {
          "output_type": "stream",
          "name": "stdout",
          "text": [
            "de.stefan_oltmann.kaesekaestchen\n",
            "com.gss.dotsandbox.dotsnbox.dots.dotsandboxes.free.board.games\n",
            "com.mggames.dotsnbox\n",
            "com.outofthebit.dots\n",
            "com.han.dotsandboxes\n"
          ]
        }
      ]
    },
    {
      "cell_type": "code",
      "source": [
        "get_csv(lists['package name'].iloc[15], lists.iloc[15:20])"
      ],
      "metadata": {
        "id": "S78Sc8CWC8zW",
        "colab": {
          "base_uri": "https://localhost:8080/"
        },
        "outputId": "4d36b8f5-65b5-403b-f522-8efb9b3bd182"
      },
      "execution_count": null,
      "outputs": [
        {
          "output_type": "stream",
          "name": "stdout",
          "text": [
            "com.example.android.monthcalendarwidget\n",
            "com.google.android.calendar\n",
            "com.itbenefit.android.calendar\n",
            "com.bihsnow.monthcalendarwidget\n",
            "com.moonly.android\n"
          ]
        }
      ]
    },
    {
      "cell_type": "code",
      "source": [
        "get_csv(lists['package name'].iloc[20], lists.iloc[20:25])"
      ],
      "metadata": {
        "id": "Ypte-1rTC8K5",
        "colab": {
          "base_uri": "https://localhost:8080/"
        },
        "outputId": "1b8fd903-5f9e-4822-efff-3b3bb5aecb0b"
      },
      "execution_count": null,
      "outputs": [
        {
          "output_type": "stream",
          "name": "stdout",
          "text": [
            "be.brunoparmentier.dnssetter\n",
            "com.evanhe.dnsforward\n",
            "com.burakgon.dnschanger\n",
            "com.protectstar.dnschanger\n",
            "free.vpn.unblock.proxy.turbovpn\n"
          ]
        }
      ]
    }
  ]
}