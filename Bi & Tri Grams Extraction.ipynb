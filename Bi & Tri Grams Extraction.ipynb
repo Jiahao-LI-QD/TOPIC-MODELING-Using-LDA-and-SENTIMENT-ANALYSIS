{
  "nbformat": 4,
  "nbformat_minor": 0,
  "metadata": {
    "colab": {
      "name": "Lab3.ipynb",
      "provenance": [],
      "collapsed_sections": []
    },
    "kernelspec": {
      "name": "python3",
      "display_name": "Python 3"
    },
    "language_info": {
      "name": "python"
    }
  },
  "cells": [
    {
      "cell_type": "markdown",
      "source": [
        "# **Task 0 And Task 1**\n",
        "run the following code to get \"MyAppDescriptions.csv\" and \"MyAppFeatures.csv\" for the upcomming sections"
      ],
      "metadata": {
        "id": "8LVC3-YyKkcs"
      }
    },
    {
      "cell_type": "code",
      "execution_count": 1,
      "metadata": {
        "id": "3uXt901JJrv-",
        "colab": {
          "base_uri": "https://localhost:8080/"
        },
        "outputId": "942a8f83-80f9-49c9-e5a8-ecf5f53ab5ce"
      },
      "outputs": [
        {
          "output_type": "stream",
          "name": "stdout",
          "text": [
            "Cloning into 'EECS4312'...\n",
            "remote: Enumerating objects: 12, done.\u001b[K\n",
            "remote: Counting objects: 100% (12/12), done.\u001b[K\n",
            "remote: Compressing objects: 100% (11/11), done.\u001b[K\n",
            "remote: Total 12 (delta 3), reused 0 (delta 0), pack-reused 0\u001b[K\n",
            "Unpacking objects: 100% (12/12), done.\n"
          ]
        }
      ],
      "source": [
        "import pandas\n",
        "\n",
        "# uncomment the following codes if need to restart\n",
        "#import shutil\n",
        "#shutil. rmtree(\"EECS4312\")\n",
        "\n",
        "# get \"MyAppDescriptions.csv\" and \"MyAppFeatures.csv\" from git\n",
        "!git clone https://github.com/li-jiahao-216263949/EECS4312.git\n",
        "\n",
        "# read csv files\n",
        "features = pandas.read_csv('EECS4312/MyAppFeatures.csv')\n",
        "descriptions = pandas.read_csv('EECS4312/MyAppDescriptions.csv')\n"
      ]
    },
    {
      "cell_type": "markdown",
      "source": [
        "# **Task 2**\n"
      ],
      "metadata": {
        "id": "4mNaiMQarK6G"
      }
    },
    {
      "cell_type": "markdown",
      "source": [
        "First, install the necessary packages, define a print function to show the result of every step"
      ],
      "metadata": {
        "id": "FmWIw2ZJHto8"
      }
    },
    {
      "cell_type": "code",
      "source": [
        "!pip install emoji --upgrade\n",
        "import emoji\n",
        "import re\n",
        "import nltk\n",
        "from nltk.corpus import stopwords\n",
        "nltk.download('stopwords')\n",
        "nltk.download('wordnet')\n",
        "\n",
        "# print the results for a column\n",
        "def show_result(apps):\n",
        "  apps = apps.apply(lambda x : print(x))"
      ],
      "metadata": {
        "colab": {
          "base_uri": "https://localhost:8080/"
        },
        "id": "HnA-EbScJR9I",
        "outputId": "d823dab2-dd4c-468f-d6d1-0f75e23a0863"
      },
      "execution_count": 2,
      "outputs": [
        {
          "output_type": "stream",
          "name": "stdout",
          "text": [
            "Collecting emoji\n",
            "  Downloading emoji-1.7.0.tar.gz (175 kB)\n",
            "\u001b[?25l\r\u001b[K     |█▉                              | 10 kB 16.1 MB/s eta 0:00:01\r\u001b[K     |███▊                            | 20 kB 11.4 MB/s eta 0:00:01\r\u001b[K     |█████▋                          | 30 kB 6.4 MB/s eta 0:00:01\r\u001b[K     |███████▌                        | 40 kB 5.8 MB/s eta 0:00:01\r\u001b[K     |█████████▍                      | 51 kB 3.2 MB/s eta 0:00:01\r\u001b[K     |███████████▏                    | 61 kB 3.8 MB/s eta 0:00:01\r\u001b[K     |█████████████                   | 71 kB 2.9 MB/s eta 0:00:01\r\u001b[K     |███████████████                 | 81 kB 3.3 MB/s eta 0:00:01\r\u001b[K     |████████████████▉               | 92 kB 3.6 MB/s eta 0:00:01\r\u001b[K     |██████████████████▊             | 102 kB 3.7 MB/s eta 0:00:01\r\u001b[K     |████████████████████▌           | 112 kB 3.7 MB/s eta 0:00:01\r\u001b[K     |██████████████████████▍         | 122 kB 3.7 MB/s eta 0:00:01\r\u001b[K     |████████████████████████▎       | 133 kB 3.7 MB/s eta 0:00:01\r\u001b[K     |██████████████████████████▏     | 143 kB 3.7 MB/s eta 0:00:01\r\u001b[K     |████████████████████████████    | 153 kB 3.7 MB/s eta 0:00:01\r\u001b[K     |█████████████████████████████▉  | 163 kB 3.7 MB/s eta 0:00:01\r\u001b[K     |███████████████████████████████▊| 174 kB 3.7 MB/s eta 0:00:01\r\u001b[K     |████████████████████████████████| 175 kB 3.7 MB/s \n",
            "\u001b[?25hBuilding wheels for collected packages: emoji\n",
            "  Building wheel for emoji (setup.py) ... \u001b[?25l\u001b[?25hdone\n",
            "  Created wheel for emoji: filename=emoji-1.7.0-py3-none-any.whl size=171046 sha256=eddfc3baa794c5cbee8dd6b8cb39430f96befbb89cc5473287f0fade15cea50e\n",
            "  Stored in directory: /root/.cache/pip/wheels/8a/4e/b6/57b01db010d17ef6ea9b40300af725ef3e210cb1acfb7ac8b6\n",
            "Successfully built emoji\n",
            "Installing collected packages: emoji\n",
            "Successfully installed emoji-1.7.0\n",
            "[nltk_data] Downloading package stopwords to /root/nltk_data...\n",
            "[nltk_data]   Unzipping corpora/stopwords.zip.\n",
            "[nltk_data] Downloading package wordnet to /root/nltk_data...\n",
            "[nltk_data]   Unzipping corpora/wordnet.zip.\n"
          ]
        }
      ]
    },
    {
      "cell_type": "markdown",
      "source": [
        "I. Remove punctuations, show the output"
      ],
      "metadata": {
        "id": "QQP7jkyNJYDz"
      }
    },
    {
      "cell_type": "code",
      "source": [
        "import string\n",
        "# remove punction in description\n",
        "# there is no ' in descriptions, so we do not need to consider the tokenization\n",
        "def remove_punction(text):\n",
        "  return \"\".join([char for char in text if char not in string.punctuation])\n",
        "\n",
        "descriptions[\"app description\"] = descriptions[\"app description\"].apply(remove_punction)\n",
        "show_result(descriptions[\"app description\"])"
      ],
      "metadata": {
        "colab": {
          "base_uri": "https://localhost:8080/"
        },
        "id": "50MEdZDxFy-K",
        "outputId": "c850dbcc-ff5d-40da-9cdd-cd7466d9cbc2"
      },
      "execution_count": 3,
      "outputs": [
        {
          "output_type": "stream",
          "name": "stdout",
          "text": [
            "Visually explore used and free space on internal and external storage DiskUsage provides a way to find files and directories on storage card which consume a lot of space It displays a diagram with directoriessubdirectories shown proportional to their size Press MENU for actions Integrates with OI FileManager and Solid Explorer\n",
            "Calculate annuity differentiated and fixed payments Calculationthe monthly payment the amount of interest paid the total cost of credit amortization schedule and a comparison of all these indices between different loans\n",
            "Classic puzzle game Players take turns joining two horizontally or vertically adjacent dots by a line A player that completes the fourth side of a square a box colors that box and must play again When all boxes have been colored the game ends and the player who has colored more boxes wins You are playing against the computer The computer is red you are blue\n",
            "Simple month calendar widget\n",
            "DNSSetter lets you change your DNS servers It currently uses the setprop method and works for mobile connections 3G 4G etc This is temporary and it will not resist if your IP address changes or if you reboot your device As DNS management changes depending on Android version this might not work for you If so please let me know so I can try adding other methods Requires root Yes To edit system properties\n"
          ]
        }
      ]
    },
    {
      "cell_type": "markdown",
      "source": [
        "II. Remove special characters and emojis, show the output."
      ],
      "metadata": {
        "id": "fylaSczaLkIe"
      }
    },
    {
      "cell_type": "code",
      "source": [
        "# remove special character, keep only numbers , a-z and A - Z\n",
        "remove_special = lambda x : re.sub(r\"[^a-zA-Z0-9]+\", ' ', x)\n",
        "# remove emoji\n",
        "def remove_emoji(text):\n",
        "    return emoji.replace_emoji(text, replace='')\n",
        "\n",
        "descriptions[\"app description\"] = descriptions[\"app description\"].apply(remove_special)\n",
        "descriptions[\"app description\"] = descriptions[\"app description\"].apply(remove_emoji)\n",
        "\n",
        "show_result(descriptions[\"app description\"])"
      ],
      "metadata": {
        "colab": {
          "base_uri": "https://localhost:8080/"
        },
        "id": "4vLUBt3YKQKb",
        "outputId": "be8738e6-d7c1-4b8b-9837-4ce2cc47fbcb"
      },
      "execution_count": 4,
      "outputs": [
        {
          "output_type": "stream",
          "name": "stdout",
          "text": [
            "Visually explore used and free space on internal and external storage DiskUsage provides a way to find files and directories on storage card which consume a lot of space It displays a diagram with directoriessubdirectories shown proportional to their size Press MENU for actions Integrates with OI FileManager and Solid Explorer\n",
            "Calculate annuity differentiated and fixed payments Calculationthe monthly payment the amount of interest paid the total cost of credit amortization schedule and a comparison of all these indices between different loans\n",
            "Classic puzzle game Players take turns joining two horizontally or vertically adjacent dots by a line A player that completes the fourth side of a square a box colors that box and must play again When all boxes have been colored the game ends and the player who has colored more boxes wins You are playing against the computer The computer is red you are blue\n",
            "Simple month calendar widget\n",
            "DNSSetter lets you change your DNS servers It currently uses the setprop method and works for mobile connections 3G 4G etc This is temporary and it will not resist if your IP address changes or if you reboot your device As DNS management changes depending on Android version this might not work for you If so please let me know so I can try adding other methods Requires root Yes To edit system properties\n"
          ]
        }
      ]
    },
    {
      "cell_type": "markdown",
      "source": [
        "III. Turn numbers into text (3 to three for example), show the output"
      ],
      "metadata": {
        "id": "QW99RoP1Lv4O"
      }
    },
    {
      "cell_type": "code",
      "source": [
        "nums = {'0':'zero', '1':'one', '2':'two', '3':'three', '4':\"four\", '5':\"five\", '6':\"six\", '7':\"seven\", '8':\"eight\", '9':\"nine\"}\n",
        "# check all numbers, replace it with word if any\n",
        "def turn_num2word(text):\n",
        "  s = text\n",
        "  for n in nums:\n",
        "    if n in s:\n",
        "      s = s.replace(n, nums[n])\n",
        "  return s\n",
        "\n",
        "descriptions[\"app description\"] = descriptions[\"app description\"].apply(turn_num2word)\n",
        "show_result(descriptions[\"app description\"])"
      ],
      "metadata": {
        "colab": {
          "base_uri": "https://localhost:8080/"
        },
        "id": "WQDXPyryMMs7",
        "outputId": "717ee024-5b4f-4946-f061-d6cc0802535c"
      },
      "execution_count": 5,
      "outputs": [
        {
          "output_type": "stream",
          "name": "stdout",
          "text": [
            "Visually explore used and free space on internal and external storage DiskUsage provides a way to find files and directories on storage card which consume a lot of space It displays a diagram with directoriessubdirectories shown proportional to their size Press MENU for actions Integrates with OI FileManager and Solid Explorer\n",
            "Calculate annuity differentiated and fixed payments Calculationthe monthly payment the amount of interest paid the total cost of credit amortization schedule and a comparison of all these indices between different loans\n",
            "Classic puzzle game Players take turns joining two horizontally or vertically adjacent dots by a line A player that completes the fourth side of a square a box colors that box and must play again When all boxes have been colored the game ends and the player who has colored more boxes wins You are playing against the computer The computer is red you are blue\n",
            "Simple month calendar widget\n",
            "DNSSetter lets you change your DNS servers It currently uses the setprop method and works for mobile connections threeG fourG etc This is temporary and it will not resist if your IP address changes or if you reboot your device As DNS management changes depending on Android version this might not work for you If so please let me know so I can try adding other methods Requires root Yes To edit system properties\n"
          ]
        }
      ]
    },
    {
      "cell_type": "markdown",
      "source": [
        "IV. Remove extra white spaces, show the output."
      ],
      "metadata": {
        "id": "0y08evxgLwFD"
      }
    },
    {
      "cell_type": "code",
      "source": [
        "# split the string and join them with only 1 space\n",
        "leave_one_space = lambda x : \" \".join(x.split())\n",
        "\n",
        "descriptions[\"app description\"] = descriptions[\"app description\"].apply(leave_one_space)\n",
        "show_result(descriptions[\"app description\"])"
      ],
      "metadata": {
        "colab": {
          "base_uri": "https://localhost:8080/"
        },
        "id": "qgoIMXxNMMgS",
        "outputId": "e3dcf658-d5a0-4d5b-998b-b58facc3af99"
      },
      "execution_count": 6,
      "outputs": [
        {
          "output_type": "stream",
          "name": "stdout",
          "text": [
            "Visually explore used and free space on internal and external storage DiskUsage provides a way to find files and directories on storage card which consume a lot of space It displays a diagram with directoriessubdirectories shown proportional to their size Press MENU for actions Integrates with OI FileManager and Solid Explorer\n",
            "Calculate annuity differentiated and fixed payments Calculationthe monthly payment the amount of interest paid the total cost of credit amortization schedule and a comparison of all these indices between different loans\n",
            "Classic puzzle game Players take turns joining two horizontally or vertically adjacent dots by a line A player that completes the fourth side of a square a box colors that box and must play again When all boxes have been colored the game ends and the player who has colored more boxes wins You are playing against the computer The computer is red you are blue\n",
            "Simple month calendar widget\n",
            "DNSSetter lets you change your DNS servers It currently uses the setprop method and works for mobile connections threeG fourG etc This is temporary and it will not resist if your IP address changes or if you reboot your device As DNS management changes depending on Android version this might not work for you If so please let me know so I can try adding other methods Requires root Yes To edit system properties\n"
          ]
        }
      ]
    },
    {
      "cell_type": "markdown",
      "source": [
        "V. Turn all words into lowercase, show the output"
      ],
      "metadata": {
        "id": "drpepQz1LvYE"
      }
    },
    {
      "cell_type": "code",
      "source": [
        "# convert it to lowercase\n",
        "to_lowercase = lambda x : x.lower()\n",
        "\n",
        "descriptions[\"app description\"] = descriptions[\"app description\"].apply(to_lowercase)\n",
        "show_result(descriptions[\"app description\"])"
      ],
      "metadata": {
        "colab": {
          "base_uri": "https://localhost:8080/"
        },
        "id": "zLhCkAgqMMR0",
        "outputId": "a08b9c42-3878-4902-b371-22d13c43f47d"
      },
      "execution_count": 7,
      "outputs": [
        {
          "output_type": "stream",
          "name": "stdout",
          "text": [
            "visually explore used and free space on internal and external storage diskusage provides a way to find files and directories on storage card which consume a lot of space it displays a diagram with directoriessubdirectories shown proportional to their size press menu for actions integrates with oi filemanager and solid explorer\n",
            "calculate annuity differentiated and fixed payments calculationthe monthly payment the amount of interest paid the total cost of credit amortization schedule and a comparison of all these indices between different loans\n",
            "classic puzzle game players take turns joining two horizontally or vertically adjacent dots by a line a player that completes the fourth side of a square a box colors that box and must play again when all boxes have been colored the game ends and the player who has colored more boxes wins you are playing against the computer the computer is red you are blue\n",
            "simple month calendar widget\n",
            "dnssetter lets you change your dns servers it currently uses the setprop method and works for mobile connections threeg fourg etc this is temporary and it will not resist if your ip address changes or if you reboot your device as dns management changes depending on android version this might not work for you if so please let me know so i can try adding other methods requires root yes to edit system properties\n"
          ]
        }
      ]
    },
    {
      "cell_type": "markdown",
      "source": [
        "VI. Remove stop words, show the output."
      ],
      "metadata": {
        "id": "EryQpk7rLxit"
      }
    },
    {
      "cell_type": "code",
      "source": [
        "# get stop words from nltk\n",
        "stop_words = stopwords.words('english')\n",
        "\n",
        "def remove_stopword(text):\n",
        "  return \" \".join([word for word in text.split() if word not in stop_words])\n",
        "\n",
        "descriptions[\"app description\"] = descriptions[\"app description\"].apply(remove_stopword)\n",
        "show_result(descriptions[\"app description\"])"
      ],
      "metadata": {
        "colab": {
          "base_uri": "https://localhost:8080/"
        },
        "id": "BcIp5kUWMMAo",
        "outputId": "36335fc9-15de-44b4-a5ce-f7888d1d1c19"
      },
      "execution_count": 8,
      "outputs": [
        {
          "output_type": "stream",
          "name": "stdout",
          "text": [
            "visually explore used free space internal external storage diskusage provides way find files directories storage card consume lot space displays diagram directoriessubdirectories shown proportional size press menu actions integrates oi filemanager solid explorer\n",
            "calculate annuity differentiated fixed payments calculationthe monthly payment amount interest paid total cost credit amortization schedule comparison indices different loans\n",
            "classic puzzle game players take turns joining two horizontally vertically adjacent dots line player completes fourth side square box colors box must play boxes colored game ends player colored boxes wins playing computer computer red blue\n",
            "simple month calendar widget\n",
            "dnssetter lets change dns servers currently uses setprop method works mobile connections threeg fourg etc temporary resist ip address changes reboot device dns management changes depending android version might work please let know try adding methods requires root yes edit system properties\n"
          ]
        }
      ]
    },
    {
      "cell_type": "markdown",
      "source": [
        "VII. Apply Stemming, show the output."
      ],
      "metadata": {
        "id": "CBAbC7AGLwLT"
      }
    },
    {
      "cell_type": "code",
      "source": [
        "# get the stem method\n",
        "porter = nltk.stem.PorterStemmer()\n",
        "def stemming(text):\n",
        "  return \" \".join([porter.stem(word) for word in text.split()])\n",
        "\n",
        "descriptions[\"app description\"] = descriptions[\"app description\"].apply(stemming)\n",
        "show_result(descriptions[\"app description\"])"
      ],
      "metadata": {
        "colab": {
          "base_uri": "https://localhost:8080/"
        },
        "id": "Xwkc_1TsMLsl",
        "outputId": "4608f0ce-637e-4f55-ff6b-60e0b3d6206e"
      },
      "execution_count": 9,
      "outputs": [
        {
          "output_type": "stream",
          "name": "stdout",
          "text": [
            "visual explor use free space intern extern storag diskusag provid way find file directori storag card consum lot space display diagram directoriessubdirectori shown proport size press menu action integr oi filemanag solid explor\n",
            "calcul annuiti differenti fix payment calculationth monthli payment amount interest paid total cost credit amort schedul comparison indic differ loan\n",
            "classic puzzl game player take turn join two horizont vertic adjac dot line player complet fourth side squar box color box must play box color game end player color box win play comput comput red blue\n",
            "simpl month calendar widget\n",
            "dnssetter let chang dn server current use setprop method work mobil connect threeg fourg etc temporari resist ip address chang reboot devic dn manag chang depend android version might work pleas let know tri ad method requir root ye edit system properti\n"
          ]
        }
      ]
    },
    {
      "cell_type": "markdown",
      "source": [
        "VIII. Apply Lemmatization, show the output."
      ],
      "metadata": {
        "id": "n-qWOfUXLy5E"
      }
    },
    {
      "cell_type": "code",
      "source": [
        "lemma = nltk.stem.WordNetLemmatizer()\n",
        "def Lemmatization(text):\n",
        "  return \" \".join([lemma.lemmatize(word) for word in text.split()])\n",
        "\n",
        "descriptions[\"app description\"] = descriptions[\"app description\"].apply(Lemmatization)\n",
        "show_result(descriptions[\"app description\"])"
      ],
      "metadata": {
        "colab": {
          "base_uri": "https://localhost:8080/"
        },
        "id": "hE1RCO57MLKJ",
        "outputId": "3a9cd0c5-d505-4a64-adc5-bcdf53c4c548"
      },
      "execution_count": 10,
      "outputs": [
        {
          "output_type": "stream",
          "name": "stdout",
          "text": [
            "visual explor use free space intern extern storag diskusag provid way find file directori storag card consum lot space display diagram directoriessubdirectori shown proport size press menu action integr oi filemanag solid explor\n",
            "calcul annuiti differenti fix payment calculationth monthli payment amount interest paid total cost credit amort schedul comparison indic differ loan\n",
            "classic puzzl game player take turn join two horizont vertic adjac dot line player complet fourth side squar box color box must play box color game end player color box win play comput comput red blue\n",
            "simpl month calendar widget\n",
            "dnssetter let chang dn server current use setprop method work mobil connect threeg fourg etc temporari resist ip address chang reboot devic dn manag chang depend android version might work plea let know tri ad method requir root ye edit system properti\n"
          ]
        }
      ]
    },
    {
      "cell_type": "markdown",
      "source": [
        "IX. Create an output file “PreProcessedDescription.csv”. "
      ],
      "metadata": {
        "id": "tve0s6qqLzD2"
      }
    },
    {
      "cell_type": "code",
      "source": [
        "# save the csv file to the same directory\n",
        "descriptions.to_csv(\"EECS4312/PreProcessedDescription.csv\")"
      ],
      "metadata": {
        "id": "VK5EuPnjMNNE"
      },
      "execution_count": 11,
      "outputs": []
    },
    {
      "cell_type": "markdown",
      "source": [
        "**X. What is the difference between stemming and lemmatization?**<br/>\n",
        "**Answer\\:** <br/>\n",
        "Stemming: <br/>\n",
        "A process of removing and replacing suffixes to get to the root form of the word. This usually refers to heuristics that chop off suffixes. This focus on the suffixes.<br/>\n",
        "Lemmatization:<br/>\n",
        "This usually refers to doing things properly with the use of a vocabulary and morphological analysis. This will return the base or dictionary form of a word.\n"
      ],
      "metadata": {
        "id": "JoGeyKNaMGCd"
      }
    },
    {
      "cell_type": "markdown",
      "source": [
        "# **Task 3**"
      ],
      "metadata": {
        "id": "7pCViTU7q8Xq"
      }
    },
    {
      "cell_type": "code",
      "source": [
        "# read the \"PreProcessedDescription.csv\"\n",
        "processed = pandas.read_csv('EECS4312/PreProcessedDescription.csv')"
      ],
      "metadata": {
        "id": "w_F0gziGvOby"
      },
      "execution_count": 12,
      "outputs": []
    },
    {
      "cell_type": "markdown",
      "source": [
        "**Define function** for task 3 and task 4"
      ],
      "metadata": {
        "id": "6cudox6ZYde7"
      }
    },
    {
      "cell_type": "code",
      "source": [
        "# define a function to generate n grams for the app description\n",
        "def get_ngrams(text, n):\n",
        "  result = []\n",
        "  tokens = [token for token in text.split() if token != \"\"]\n",
        "  if (len(tokens) < n):\n",
        "    return result\n",
        "  for i in range(len(tokens) - n + 1):\n",
        "    result.append(\" \".join(tokens[i:i+n]))\n",
        "  return result\n",
        "\n",
        "# return the dataframe for the description with n-gram\n",
        "def get_df(df, n):\n",
        "  result = pandas.DataFrame(columns=[\"package name\", \"app name\", str(n) + \" grams\"])\n",
        "  r = 0\n",
        "  for i in range(len(df)):\n",
        "    tokens = get_ngrams(df[\"app description\"][i], n)\n",
        "    if (len(tokens) == 0):\n",
        "      result.loc[r] = [df[\"package name\"][i],df[\"app name\"][i],\"\"]\n",
        "      r += 1\n",
        "    else:\n",
        "      for bg in tokens:\n",
        "        result.loc[r] = [df[\"package name\"][i],df[\"app name\"][i],bg]\n",
        "        r += 1\n",
        "  return result"
      ],
      "metadata": {
        "id": "N1F1_SO6565W"
      },
      "execution_count": 13,
      "outputs": []
    },
    {
      "cell_type": "markdown",
      "source": [
        "Output BiGrams.csv"
      ],
      "metadata": {
        "id": "B0hnixYMaisB"
      }
    },
    {
      "cell_type": "code",
      "source": [
        "# get dataframe for BiGrams\n",
        "bigrams = get_df(processed, 2)\n",
        "# save output file \"BiGrams.csv\".\n",
        "bigrams.to_csv('EECS4312/BiGrams.csv')"
      ],
      "metadata": {
        "id": "9i9dYCJTYseK"
      },
      "execution_count": 14,
      "outputs": []
    },
    {
      "cell_type": "markdown",
      "source": [
        "# **Task 4**"
      ],
      "metadata": {
        "id": "m_DlkQILtzFP"
      }
    },
    {
      "cell_type": "markdown",
      "source": [
        "Output TriGrams.csv"
      ],
      "metadata": {
        "id": "1Vt7ZQ4Va87q"
      }
    },
    {
      "cell_type": "code",
      "source": [
        "# get dataframe for TriGrams\n",
        "trigrams = get_df(processed, 3)\n",
        "# save output file \"Trirams.csv\".\n",
        "trigrams.to_csv('EECS4312/TriGrams.csv')"
      ],
      "metadata": {
        "id": "olw5gSXYaqGH"
      },
      "execution_count": 15,
      "outputs": []
    },
    {
      "cell_type": "markdown",
      "source": [
        "# **Task 5**"
      ],
      "metadata": {
        "id": "kSGQTbjqtzQr"
      }
    },
    {
      "cell_type": "markdown",
      "source": [
        "**I. Using substring matching, output the results as the number of hits and losses** <br>\n",
        "Design a function for a single app"
      ],
      "metadata": {
        "id": "S6fpzNufPAxt"
      }
    },
    {
      "cell_type": "code",
      "source": [
        "# take the dataframe of a list of app feature and its bigrams & trigrams\n",
        "# return the hit and loss\n",
        "# @ fs : feature csv in pandas dataframe\n",
        "# @ grams : gram csv in pandas dataframe\n",
        "# @ app : the name of app\n",
        "# @ n :  the number of gram\n",
        "def hit_loss(fs, grams, app, n):\n",
        "  hit = 0\n",
        "  loss = 0\n",
        "  \n",
        "  flists = fs.loc[fs['app name'] == app][\"feature\"]\n",
        "  gramlist = grams.loc[grams['app name'] == app][str(n) + \" grams\"]\n",
        "  for token in gramlist:\n",
        "    result = False\n",
        "    for f in flists:\n",
        "      #check the hit or not\n",
        "      if (set(token).issubset(f)):\n",
        "        result = True\n",
        "    if result:\n",
        "      hit += 1\n",
        "    else:\n",
        "      loss += 1\n",
        "\n",
        "  return hit, loss"
      ],
      "metadata": {
        "id": "E1Akn25AcMAz"
      },
      "execution_count": 16,
      "outputs": []
    },
    {
      "cell_type": "code",
      "source": [
        "# collect result for table display\n",
        "table = []"
      ],
      "metadata": {
        "id": "5Q3rUqMoul-s"
      },
      "execution_count": 17,
      "outputs": []
    },
    {
      "cell_type": "markdown",
      "source": [
        "1. app : DiskUsage"
      ],
      "metadata": {
        "id": "yVh4GMB_t5J4"
      }
    },
    {
      "cell_type": "code",
      "source": [
        "app1 = descriptions['app name'][0]\n",
        "hitloss_bigram1 = hit_loss(features, bigrams, app1, 2)\n",
        "hitloss_trigram1 = hit_loss(features, trigrams, app1, 3)\n",
        "print(\"BiGram hit & loss for \" + app1)\n",
        "print(hitloss_bigram1)\n",
        "print(\"TriGram hit & loss for \" + app1)\n",
        "print(hitloss_trigram1)\n",
        "table.append(hitloss_bigram1 + hitloss_trigram1)"
      ],
      "metadata": {
        "colab": {
          "base_uri": "https://localhost:8080/"
        },
        "id": "2eTeVGfir8zH",
        "outputId": "8785d3bd-c56f-4d63-d04d-4183f822e6e4"
      },
      "execution_count": 18,
      "outputs": [
        {
          "output_type": "stream",
          "name": "stdout",
          "text": [
            "BiGram hit & loss for DiskUsage\n",
            "(27, 5)\n",
            "TriGram hit & loss for DiskUsage\n",
            "(24, 7)\n"
          ]
        }
      ]
    },
    {
      "cell_type": "markdown",
      "source": [
        "2. app : Simple Loan Calculator"
      ],
      "metadata": {
        "id": "esHikt5Cv-Zv"
      }
    },
    {
      "cell_type": "code",
      "source": [
        "app2 = descriptions['app name'][1]\n",
        "hitloss_bigram2 = hit_loss(features, bigrams, app2 , 2)\n",
        "hitloss_trigram2 = hit_loss(features, trigrams, app2 , 3)\n",
        "print(\"BiGram hit & loss for \" + app2)\n",
        "print(hitloss_bigram2)\n",
        "print(\"TriGram hit & loss for \" + app2)\n",
        "print(hitloss_trigram2)\n",
        "table.append(hitloss_bigram2 + hitloss_trigram2)"
      ],
      "metadata": {
        "colab": {
          "base_uri": "https://localhost:8080/"
        },
        "outputId": "159b66d6-1055-4456-fb7e-6a5ffe50c80c",
        "id": "qQdIb6UAv-Zx"
      },
      "execution_count": 19,
      "outputs": [
        {
          "output_type": "stream",
          "name": "stdout",
          "text": [
            "BiGram hit & loss for Simple Loan Calculator\n",
            "(19, 0)\n",
            "TriGram hit & loss for Simple Loan Calculator\n",
            "(17, 1)\n"
          ]
        }
      ]
    },
    {
      "cell_type": "markdown",
      "source": [
        "3. app : Dots'n'Boxes"
      ],
      "metadata": {
        "id": "tcgtWEYfwG2F"
      }
    },
    {
      "cell_type": "code",
      "source": [
        "app3 = descriptions['app name'][2]\n",
        "hitloss_bigram3 = hit_loss(features, bigrams, app3, 2)\n",
        "hitloss_trigram3 = hit_loss(features, trigrams, app3, 3)\n",
        "print(\"BiGram hit & loss for \" + app3)\n",
        "print(hitloss_bigram3)\n",
        "print(\"TriGram hit & loss for \" + app3)\n",
        "print(hitloss_trigram3)\n",
        "table.append(hitloss_bigram3 + hitloss_trigram3)"
      ],
      "metadata": {
        "colab": {
          "base_uri": "https://localhost:8080/"
        },
        "outputId": "74b5ce3d-28cb-4c33-d010-835860b7450c",
        "id": "tA7hOJ_AwG2F"
      },
      "execution_count": 20,
      "outputs": [
        {
          "output_type": "stream",
          "name": "stdout",
          "text": [
            "BiGram hit & loss for Dots'n'Boxes\n",
            "(15, 20)\n",
            "TriGram hit & loss for Dots'n'Boxes\n",
            "(9, 25)\n"
          ]
        }
      ]
    },
    {
      "cell_type": "markdown",
      "source": [
        "4. app : Month Calendar Widget"
      ],
      "metadata": {
        "id": "ldHLCHoDwHD9"
      }
    },
    {
      "cell_type": "code",
      "source": [
        "app4 = descriptions['app name'][3]\n",
        "hitloss_bigram4 = hit_loss(features, bigrams, app4, 2)\n",
        "hitloss_trigram4 = hit_loss(features, trigrams, app4, 3)\n",
        "print(\"BiGram hit & loss for \" + app4)\n",
        "print(hitloss_bigram4)\n",
        "print(\"TriGram hit & loss for \" + app4)\n",
        "print(hitloss_trigram4)\n",
        "table.append(hitloss_bigram4 + hitloss_trigram4)"
      ],
      "metadata": {
        "colab": {
          "base_uri": "https://localhost:8080/"
        },
        "outputId": "facb0452-d867-432d-ebf7-ffcf1988842a",
        "id": "2IogCUvwwHD-"
      },
      "execution_count": 21,
      "outputs": [
        {
          "output_type": "stream",
          "name": "stdout",
          "text": [
            "BiGram hit & loss for Month Calendar Widget\n",
            "(2, 1)\n",
            "TriGram hit & loss for Month Calendar Widget\n",
            "(1, 1)\n"
          ]
        }
      ]
    },
    {
      "cell_type": "markdown",
      "source": [
        "5. app : DNSSetter"
      ],
      "metadata": {
        "id": "aVFUo_S7wIIP"
      }
    },
    {
      "cell_type": "code",
      "source": [
        "app5 = descriptions['app name'][4]\n",
        "hitloss_bigram5 = hit_loss(features, bigrams, app5, 2)\n",
        "hitloss_trigram5 = hit_loss(features, trigrams, app5, 3)\n",
        "print(\"BiGram hit & loss for \" + app5)\n",
        "print(hitloss_bigram5)\n",
        "print(\"TriGram hit & loss for \" + app5)\n",
        "print(hitloss_trigram5)\n",
        "row = [app5, hitloss_bigram5, hitloss_trigram5]\n",
        "table.append(hitloss_bigram5 + hitloss_trigram5)"
      ],
      "metadata": {
        "colab": {
          "base_uri": "https://localhost:8080/"
        },
        "outputId": "8238a02e-d9d2-49b7-9bfc-ade3bdb5391e",
        "id": "Njtr3q1KwIIR"
      },
      "execution_count": 22,
      "outputs": [
        {
          "output_type": "stream",
          "name": "stdout",
          "text": [
            "BiGram hit & loss for DNSSetter\n",
            "(21, 20)\n",
            "TriGram hit & loss for DNSSetter\n",
            "(13, 27)\n"
          ]
        }
      ]
    },
    {
      "cell_type": "markdown",
      "source": [
        "--- \n",
        "**II. Manual inspection** <br>\n",
        "**Show the result table**"
      ],
      "metadata": {
        "id": "RJBBWFCx1DtS"
      }
    },
    {
      "cell_type": "code",
      "source": [
        "apps = [app1, app2, app3, app4, app5]\n",
        "cols = [\"app name\",\"BiGrams HIT\", \"BiGrams LOSS\", \"TriGrams HIT\", \"TriGrams LOSS\"]\n",
        "tits = pandas.DataFrame(apps)\n",
        "tableframe = pandas.DataFrame(table)\n",
        "tableframe = pandas.concat([tits, tableframe], axis=1)\n",
        "tableframe.columns = cols\n",
        "print(tableframe.to_string(index=False))"
      ],
      "metadata": {
        "colab": {
          "base_uri": "https://localhost:8080/"
        },
        "id": "2X8NyNRcwlg8",
        "outputId": "0a8e2460-2743-40de-dfae-216cb8e2e8f8"
      },
      "execution_count": 23,
      "outputs": [
        {
          "output_type": "stream",
          "name": "stdout",
          "text": [
            "              app name  BiGrams HIT  BiGrams LOSS  TriGrams HIT  TriGrams LOSS\n",
            "             DiskUsage           27             5            24              7\n",
            "Simple Loan Calculator           19             0            17              1\n",
            "          Dots'n'Boxes           15            20             9             25\n",
            " Month Calendar Widget            2             1             1              1\n",
            "             DNSSetter           21            20            13             27\n"
          ]
        }
      ]
    },
    {
      "cell_type": "markdown",
      "source": [
        "The hit rate here is mainly decided by the rate of (length(features from manual) / length(description)). For example the description of DiskUsage has 53 words, and the length of its features is 39 words. So the hit rate (82%, 77%) is high. But in the description of DNSSetter has 74 words, and the length of its features is 26 words. The hit rate (51%, 33%) is really low.<br>\n",
        "\n",
        "---\n",
        "\n"
      ],
      "metadata": {
        "id": "euPZwxMXYLq5"
      }
    },
    {
      "cell_type": "markdown",
      "source": [
        "**III. The extent of similarity and difference between the manually extracted features and the Bi-grams and Tri-grams** <br>\n",
        "**Answer\\:**<br>\n",
        "Similarity: They are both getting from the description of the app without changing the order and rephrasing the meaning.\n",
        "<br><br>\n",
        "Difference: The manually extracted features are longer. And they doesn't have any preprocessing on the language. The meaning of the features are complete. But they are manually selected by human, so they are subjective.<br>\n",
        "As for the Bi-grams and Tri-grams, they are cleaned by preprocessing. They can cover all the key words. But many of them are meaningless. Nevertheless, they are too short that some long features can't be captured. <br>\n",
        "\n",
        "\n",
        "---\n",
        "\n",
        "\n"
      ],
      "metadata": {
        "id": "ZKieIb5C1Ggg"
      }
    },
    {
      "cell_type": "markdown",
      "source": [
        "**IV. If extracting Bi-grams and Tri-grams are reliable enough for automated\n",
        "extraction of features from app descriptions?**<br>\n",
        "**Answer\\:**<br>\n",
        "No. <br>\n",
        "Check the hit and loss on the bi-grams and tri-grams. Some of them have a very good hit but the other half have a lot of losses. That means many of these n-gram tokens are meaningless. They need to be further selected and even recombined together. <br>\n",
        "As I state in the previous question, although they can cover all the key words. When we actually check them, some important feature can't be captured in such short bi-grams and tri-grams. The value of \"n\" may be an important threshold in the automated extraction. As for considering only bi-grams and tri-grams, they are not good enough. <br>\n",
        "For example, \"Calculate annuity, differentiated and fixed payments\" is an important feature for the Simple Loan Calculator. But clearly neither bi-grams nor trigram can capture this long sentence."
      ],
      "metadata": {
        "id": "-67T15qK1T70"
      }
    }
  ]
}